{
 "cells": [
  {
   "cell_type": "code",
   "execution_count": 1,
   "metadata": {},
   "outputs": [
    {
     "name": "stdout",
     "output_type": "stream",
     "text": [
      "Python Version: 3.7.6 (default, Jan  8 2020, 19:59:22) \n",
      "[GCC 7.3.0] \n",
      "\n"
     ]
    }
   ],
   "source": [
    "import sys\n",
    "print(\"Python Version:\", sys.version, '\\n')"
   ]
  },
  {
   "cell_type": "markdown",
   "metadata": {},
   "source": [
    "# Pickle: Saving Objects for Later"
   ]
  },
  {
   "cell_type": "markdown",
   "metadata": {},
   "source": [
    "Often in data science, we'll create some model or some version of our data and want to use it later. We have many options - we can save the coefficients, or save the data to csv, or...\n",
    "\n",
    "Actually, we don't have that many options. \n",
    "\n",
    "One way to overcome that is to save the python object to a file as a serialized object. That means we convert the entire object to a bunch of bytes, save those bytes into a file, and then have the ability to unpack those bytes back into their original format later. \n",
    "\n",
    "This is done by a module called `pickle`. Let's see it in action."
   ]
  },
  {
   "cell_type": "code",
   "execution_count": 2,
   "metadata": {},
   "outputs": [],
   "source": [
    "import pickle\n",
    "import random\n",
    "\n",
    "lots_of_noise = {\n",
    "    'CA': [random.randint(0,65) for _ in range(100)],\n",
    "    'IL': [random.randint(0,65) for _ in range(50)],\n",
    "    'NY': [random.randint(0,65) for _ in range(90)],\n",
    "    'WA': [random.randint(0,65) for _ in range(33)]\n",
    "}"
   ]
  },
  {
   "cell_type": "code",
   "execution_count": 3,
   "metadata": {},
   "outputs": [
    {
     "name": "stdout",
     "output_type": "stream",
     "text": [
      "{'CA': [1, 5, 9, 15, 28, 2, 4, 21, 41, 64, 17, 51, 52, 40, 50, 51, 22, 21, 61, 52, 4, 35, 62, 48, 54, 1, 31, 31, 13, 46, 38, 65, 33, 45, 29, 56, 49, 4, 20, 47, 47, 40, 53, 48, 14, 24, 4, 24, 18, 42, 8, 63, 1, 44, 52, 5, 35, 43, 48, 23, 31, 2, 30, 24, 49, 40, 62, 44, 8, 64, 42, 33, 35, 24, 53, 46, 57, 30, 31, 54, 2, 34, 33, 1, 34, 49, 12, 35, 38, 61, 62, 45, 32, 63, 4, 35, 8, 37, 49, 34], 'IL': [65, 50, 3, 23, 36, 45, 29, 51, 29, 17, 22, 23, 26, 7, 5, 55, 55, 49, 30, 34, 31, 0, 57, 42, 63, 47, 36, 3, 25, 56, 35, 43, 30, 22, 15, 11, 10, 19, 9, 46, 49, 52, 62, 10, 54, 55, 41, 27, 6, 10], 'NY': [44, 50, 56, 10, 43, 15, 35, 0, 33, 59, 65, 20, 50, 32, 50, 15, 45, 43, 16, 4, 14, 12, 26, 55, 20, 40, 52, 47, 35, 58, 65, 4, 48, 3, 57, 56, 59, 29, 4, 55, 1, 4, 64, 17, 47, 33, 52, 9, 39, 13, 55, 54, 41, 40, 19, 15, 15, 34, 5, 56, 27, 9, 13, 42, 18, 38, 48, 34, 18, 15, 63, 15, 25, 34, 7, 13, 48, 48, 10, 35, 11, 48, 28, 24, 50, 21, 65, 5, 41, 21], 'WA': [26, 52, 27, 56, 50, 29, 6, 47, 40, 19, 18, 10, 31, 45, 44, 54, 41, 5, 15, 8, 3, 17, 36, 28, 56, 33, 29, 50, 7, 58, 17, 34, 20]}\n"
     ]
    }
   ],
   "source": [
    "print(lots_of_noise)"
   ]
  },
  {
   "cell_type": "code",
   "execution_count": 4,
   "metadata": {},
   "outputs": [
    {
     "name": "stdout",
     "output_type": "stream",
     "text": [
      "Variable        Type      Data/Info\n",
      "-----------------------------------\n",
      "lots_of_noise   dict      n=4\n",
      "pickle          module    <module 'pickle' from '/h<...>lib/python3.7/pickle.py'>\n",
      "random          module    <module 'random' from '/h<...>lib/python3.7/random.py'>\n",
      "sys             module    <module 'sys' (built-in)>\n"
     ]
    }
   ],
   "source": [
    "whos"
   ]
  },
  {
   "cell_type": "markdown",
   "metadata": {},
   "source": [
    "We can see in this `whos` command that the object `lots_of_noise` exists and is a `dict` with 4 keys. Nice. Now let's look at our file system and verify that there isn't a file called `noise.pickle`."
   ]
  },
  {
   "cell_type": "code",
   "execution_count": 5,
   "metadata": {},
   "outputs": [
    {
     "name": "stdout",
     "output_type": "stream",
     "text": [
      "advanced_python_datatypes.ipynb  my_dataframe.pickle\r\n",
      "deep_and_shallow_copy.ipynb\t noise.pickle\r\n",
      "deep_copy_demo\t\t\t pickle_saving_objects_for_later.ipynb\r\n",
      "instructor_guide_week1_day4.md\t readme.md\r\n"
     ]
    }
   ],
   "source": [
    "!ls"
   ]
  },
  {
   "cell_type": "markdown",
   "metadata": {},
   "source": [
    "Okay, now we're ready to create a file and write the bytes to it. To do this with `pickle`, we use python's read-write streamer `open` and create a writable-binary (`wb`) file. We'll then use `pickle.dump` to put an object into that file as a string of bytes."
   ]
  },
  {
   "cell_type": "code",
   "execution_count": 6,
   "metadata": {},
   "outputs": [],
   "source": [
    "with open('noise.pickle', 'wb') as to_write:\n",
    "    pickle.dump(lots_of_noise, to_write)"
   ]
  },
  {
   "cell_type": "code",
   "execution_count": 7,
   "metadata": {},
   "outputs": [
    {
     "name": "stdout",
     "output_type": "stream",
     "text": [
      "advanced_python_datatypes.ipynb  my_dataframe.pickle\r\n",
      "deep_and_shallow_copy.ipynb\t noise.pickle\r\n",
      "deep_copy_demo\t\t\t pickle_saving_objects_for_later.ipynb\r\n",
      "instructor_guide_week1_day4.md\t readme.md\r\n"
     ]
    }
   ],
   "source": [
    "!ls"
   ]
  },
  {
   "cell_type": "markdown",
   "metadata": {},
   "source": [
    "Now let's delete `lots_of_noise` and prove to ourselves it doesn't exist in Python's memory anymore."
   ]
  },
  {
   "cell_type": "code",
   "execution_count": 8,
   "metadata": {},
   "outputs": [],
   "source": [
    "del lots_of_noise"
   ]
  },
  {
   "cell_type": "code",
   "execution_count": 9,
   "metadata": {},
   "outputs": [
    {
     "name": "stdout",
     "output_type": "stream",
     "text": [
      "Variable   Type              Data/Info\n",
      "--------------------------------------\n",
      "pickle     module            <module 'pickle' from '/h<...>lib/python3.7/pickle.py'>\n",
      "random     module            <module 'random' from '/h<...>lib/python3.7/random.py'>\n",
      "sys        module            <module 'sys' (built-in)>\n",
      "to_write   BufferedWriter    <_io.BufferedWriter name='noise.pickle'>\n"
     ]
    }
   ],
   "source": [
    "whos"
   ]
  },
  {
   "cell_type": "code",
   "execution_count": 10,
   "metadata": {},
   "outputs": [
    {
     "ename": "NameError",
     "evalue": "name 'lots_of_noise' is not defined",
     "output_type": "error",
     "traceback": [
      "\u001b[0;31m---------------------------------------------------------------------------\u001b[0m",
      "\u001b[0;31mNameError\u001b[0m                                 Traceback (most recent call last)",
      "\u001b[0;32m<ipython-input-10-69f22b4d5ca8>\u001b[0m in \u001b[0;36m<module>\u001b[0;34m\u001b[0m\n\u001b[0;32m----> 1\u001b[0;31m \u001b[0mprint\u001b[0m\u001b[0;34m(\u001b[0m\u001b[0mlots_of_noise\u001b[0m\u001b[0;34m)\u001b[0m\u001b[0;34m\u001b[0m\u001b[0;34m\u001b[0m\u001b[0m\n\u001b[0m",
      "\u001b[0;31mNameError\u001b[0m: name 'lots_of_noise' is not defined"
     ]
    }
   ],
   "source": [
    "print(lots_of_noise)"
   ]
  },
  {
   "cell_type": "markdown",
   "metadata": {},
   "source": [
    "Lovely. It's dead forever. Or is it?\n",
    "\n",
    "Let's open that `noise.pickle` file with read-binary (`rb`) mode. Then we'll ask pickle to retrieve the file with `pickle.load` and store it back in a variable."
   ]
  },
  {
   "cell_type": "code",
   "execution_count": 11,
   "metadata": {},
   "outputs": [],
   "source": [
    "with open('noise.pickle','rb') as read_file:\n",
    "    new_noise = pickle.load(read_file)"
   ]
  },
  {
   "cell_type": "code",
   "execution_count": 12,
   "metadata": {},
   "outputs": [
    {
     "name": "stdout",
     "output_type": "stream",
     "text": [
      "{'CA': [1, 5, 9, 15, 28, 2, 4, 21, 41, 64, 17, 51, 52, 40, 50, 51, 22, 21, 61, 52, 4, 35, 62, 48, 54, 1, 31, 31, 13, 46, 38, 65, 33, 45, 29, 56, 49, 4, 20, 47, 47, 40, 53, 48, 14, 24, 4, 24, 18, 42, 8, 63, 1, 44, 52, 5, 35, 43, 48, 23, 31, 2, 30, 24, 49, 40, 62, 44, 8, 64, 42, 33, 35, 24, 53, 46, 57, 30, 31, 54, 2, 34, 33, 1, 34, 49, 12, 35, 38, 61, 62, 45, 32, 63, 4, 35, 8, 37, 49, 34], 'IL': [65, 50, 3, 23, 36, 45, 29, 51, 29, 17, 22, 23, 26, 7, 5, 55, 55, 49, 30, 34, 31, 0, 57, 42, 63, 47, 36, 3, 25, 56, 35, 43, 30, 22, 15, 11, 10, 19, 9, 46, 49, 52, 62, 10, 54, 55, 41, 27, 6, 10], 'NY': [44, 50, 56, 10, 43, 15, 35, 0, 33, 59, 65, 20, 50, 32, 50, 15, 45, 43, 16, 4, 14, 12, 26, 55, 20, 40, 52, 47, 35, 58, 65, 4, 48, 3, 57, 56, 59, 29, 4, 55, 1, 4, 64, 17, 47, 33, 52, 9, 39, 13, 55, 54, 41, 40, 19, 15, 15, 34, 5, 56, 27, 9, 13, 42, 18, 38, 48, 34, 18, 15, 63, 15, 25, 34, 7, 13, 48, 48, 10, 35, 11, 48, 28, 24, 50, 21, 65, 5, 41, 21], 'WA': [26, 52, 27, 56, 50, 29, 6, 47, 40, 19, 18, 10, 31, 45, 44, 54, 41, 5, 15, 8, 3, 17, 36, 28, 56, 33, 29, 50, 7, 58, 17, 34, 20]}\n"
     ]
    }
   ],
   "source": [
    "print(new_noise)"
   ]
  },
  {
   "cell_type": "code",
   "execution_count": 13,
   "metadata": {},
   "outputs": [
    {
     "name": "stdout",
     "output_type": "stream",
     "text": [
      "Variable    Type              Data/Info\n",
      "---------------------------------------\n",
      "new_noise   dict              n=4\n",
      "pickle      module            <module 'pickle' from '/h<...>lib/python3.7/pickle.py'>\n",
      "random      module            <module 'random' from '/h<...>lib/python3.7/random.py'>\n",
      "read_file   BufferedReader    <_io.BufferedReader name='noise.pickle'>\n",
      "sys         module            <module 'sys' (built-in)>\n",
      "to_write    BufferedWriter    <_io.BufferedWriter name='noise.pickle'>\n"
     ]
    }
   ],
   "source": [
    "whos"
   ]
  },
  {
   "cell_type": "markdown",
   "metadata": {},
   "source": [
    "Random noise lives! We retrieved the entire structure from file. Nice."
   ]
  },
  {
   "cell_type": "markdown",
   "metadata": {},
   "source": [
    "### Okay, but I don't use dictionaries... I use pandas."
   ]
  },
  {
   "cell_type": "code",
   "execution_count": 14,
   "metadata": {},
   "outputs": [
    {
     "data": {
      "text/html": [
       "<div>\n",
       "<style scoped>\n",
       "    .dataframe tbody tr th:only-of-type {\n",
       "        vertical-align: middle;\n",
       "    }\n",
       "\n",
       "    .dataframe tbody tr th {\n",
       "        vertical-align: top;\n",
       "    }\n",
       "\n",
       "    .dataframe thead th {\n",
       "        text-align: right;\n",
       "    }\n",
       "</style>\n",
       "<table border=\"1\" class=\"dataframe\">\n",
       "  <thead>\n",
       "    <tr style=\"text-align: right;\">\n",
       "      <th></th>\n",
       "      <th>Yay</th>\n",
       "      <th>specific</th>\n",
       "      <th>column</th>\n",
       "      <th>names</th>\n",
       "    </tr>\n",
       "  </thead>\n",
       "  <tbody>\n",
       "    <tr>\n",
       "      <th>0</th>\n",
       "      <td>-6.257052</td>\n",
       "      <td>4.121229</td>\n",
       "      <td>-0.342351</td>\n",
       "      <td>-4.146044</td>\n",
       "    </tr>\n",
       "    <tr>\n",
       "      <th>1</th>\n",
       "      <td>9.070461</td>\n",
       "      <td>2.493461</td>\n",
       "      <td>9.048445</td>\n",
       "      <td>5.114823</td>\n",
       "    </tr>\n",
       "    <tr>\n",
       "      <th>2</th>\n",
       "      <td>7.417209</td>\n",
       "      <td>6.945107</td>\n",
       "      <td>6.811622</td>\n",
       "      <td>8.845755</td>\n",
       "    </tr>\n",
       "    <tr>\n",
       "      <th>3</th>\n",
       "      <td>-1.927071</td>\n",
       "      <td>0.741360</td>\n",
       "      <td>7.195090</td>\n",
       "      <td>-2.285449</td>\n",
       "    </tr>\n",
       "    <tr>\n",
       "      <th>4</th>\n",
       "      <td>1.366010</td>\n",
       "      <td>-1.354600</td>\n",
       "      <td>3.011826</td>\n",
       "      <td>5.549669</td>\n",
       "    </tr>\n",
       "  </tbody>\n",
       "</table>\n",
       "</div>"
      ],
      "text/plain": [
       "        Yay  specific    column     names\n",
       "0 -6.257052  4.121229 -0.342351 -4.146044\n",
       "1  9.070461  2.493461  9.048445  5.114823\n",
       "2  7.417209  6.945107  6.811622  8.845755\n",
       "3 -1.927071  0.741360  7.195090 -2.285449\n",
       "4  1.366010 -1.354600  3.011826  5.549669"
      ]
     },
     "execution_count": 14,
     "metadata": {},
     "output_type": "execute_result"
    }
   ],
   "source": [
    "import pandas as pd\n",
    "import numpy as np\n",
    "\n",
    "df = pd.DataFrame(np.random.uniform(-10,10, size=(100,4)), columns=['Yay','specific','column','names'])\n",
    "df.head(5)"
   ]
  },
  {
   "cell_type": "code",
   "execution_count": 15,
   "metadata": {},
   "outputs": [],
   "source": [
    "with open('my_dataframe.pickle', 'wb') as to_write:\n",
    "    pickle.dump(df, to_write)"
   ]
  },
  {
   "cell_type": "code",
   "execution_count": 16,
   "metadata": {},
   "outputs": [
    {
     "ename": "NameError",
     "evalue": "name 'df' is not defined",
     "output_type": "error",
     "traceback": [
      "\u001b[0;31m---------------------------------------------------------------------------\u001b[0m",
      "\u001b[0;31mNameError\u001b[0m                                 Traceback (most recent call last)",
      "\u001b[0;32m<ipython-input-16-3975f6306adf>\u001b[0m in \u001b[0;36m<module>\u001b[0;34m\u001b[0m\n\u001b[1;32m      1\u001b[0m \u001b[0;32mdel\u001b[0m \u001b[0mdf\u001b[0m\u001b[0;34m\u001b[0m\u001b[0;34m\u001b[0m\u001b[0m\n\u001b[1;32m      2\u001b[0m \u001b[0;34m\u001b[0m\u001b[0m\n\u001b[0;32m----> 3\u001b[0;31m \u001b[0mdf\u001b[0m\u001b[0;34m.\u001b[0m\u001b[0mhead\u001b[0m\u001b[0;34m(\u001b[0m\u001b[0;36m5\u001b[0m\u001b[0;34m)\u001b[0m\u001b[0;34m\u001b[0m\u001b[0;34m\u001b[0m\u001b[0m\n\u001b[0m",
      "\u001b[0;31mNameError\u001b[0m: name 'df' is not defined"
     ]
    }
   ],
   "source": [
    "del df\n",
    "\n",
    "df.head(5)"
   ]
  },
  {
   "cell_type": "code",
   "execution_count": 17,
   "metadata": {},
   "outputs": [
    {
     "data": {
      "text/html": [
       "<div>\n",
       "<style scoped>\n",
       "    .dataframe tbody tr th:only-of-type {\n",
       "        vertical-align: middle;\n",
       "    }\n",
       "\n",
       "    .dataframe tbody tr th {\n",
       "        vertical-align: top;\n",
       "    }\n",
       "\n",
       "    .dataframe thead th {\n",
       "        text-align: right;\n",
       "    }\n",
       "</style>\n",
       "<table border=\"1\" class=\"dataframe\">\n",
       "  <thead>\n",
       "    <tr style=\"text-align: right;\">\n",
       "      <th></th>\n",
       "      <th>Yay</th>\n",
       "      <th>specific</th>\n",
       "      <th>column</th>\n",
       "      <th>names</th>\n",
       "    </tr>\n",
       "  </thead>\n",
       "  <tbody>\n",
       "    <tr>\n",
       "      <th>0</th>\n",
       "      <td>-6.257052</td>\n",
       "      <td>4.121229</td>\n",
       "      <td>-0.342351</td>\n",
       "      <td>-4.146044</td>\n",
       "    </tr>\n",
       "    <tr>\n",
       "      <th>1</th>\n",
       "      <td>9.070461</td>\n",
       "      <td>2.493461</td>\n",
       "      <td>9.048445</td>\n",
       "      <td>5.114823</td>\n",
       "    </tr>\n",
       "    <tr>\n",
       "      <th>2</th>\n",
       "      <td>7.417209</td>\n",
       "      <td>6.945107</td>\n",
       "      <td>6.811622</td>\n",
       "      <td>8.845755</td>\n",
       "    </tr>\n",
       "    <tr>\n",
       "      <th>3</th>\n",
       "      <td>-1.927071</td>\n",
       "      <td>0.741360</td>\n",
       "      <td>7.195090</td>\n",
       "      <td>-2.285449</td>\n",
       "    </tr>\n",
       "    <tr>\n",
       "      <th>4</th>\n",
       "      <td>1.366010</td>\n",
       "      <td>-1.354600</td>\n",
       "      <td>3.011826</td>\n",
       "      <td>5.549669</td>\n",
       "    </tr>\n",
       "  </tbody>\n",
       "</table>\n",
       "</div>"
      ],
      "text/plain": [
       "        Yay  specific    column     names\n",
       "0 -6.257052  4.121229 -0.342351 -4.146044\n",
       "1  9.070461  2.493461  9.048445  5.114823\n",
       "2  7.417209  6.945107  6.811622  8.845755\n",
       "3 -1.927071  0.741360  7.195090 -2.285449\n",
       "4  1.366010 -1.354600  3.011826  5.549669"
      ]
     },
     "execution_count": 17,
     "metadata": {},
     "output_type": "execute_result"
    }
   ],
   "source": [
    "with open('my_dataframe.pickle','rb') as read_file:\n",
    "    new_df = pickle.load(read_file)\n",
    "    \n",
    "new_df.head(5)"
   ]
  },
  {
   "cell_type": "markdown",
   "metadata": {},
   "source": [
    "Pickle is a great tool. One recommended way of using it is to make it an end point of every step in your process. Example:\n",
    "\n",
    "* I got my data! Nice. Pickle it and stop your \"getting the data\" notebook.\n",
    "* Load your data from pickle. Clean it. Save your clean data to a new pickle.\n",
    "* Load your cleaned_data pickle. Do analysis and visualize it.\n",
    "\n",
    "This can provide natural \"pick-up-where-I-left-off-but-before-I-broke-my-data\" points. It's a great way to control the flow of your data.\n",
    "\n",
    "#### Resources\n",
    "\n",
    "https://docs.python.org/3.7/library/pickle.html"
   ]
  }
 ],
 "metadata": {
  "kernelspec": {
   "display_name": "Python 3",
   "language": "python",
   "name": "python3"
  },
  "language_info": {
   "codemirror_mode": {
    "name": "ipython",
    "version": 3
   },
   "file_extension": ".py",
   "mimetype": "text/x-python",
   "name": "python",
   "nbconvert_exporter": "python",
   "pygments_lexer": "ipython3",
   "version": "3.7.6"
  }
 },
 "nbformat": 4,
 "nbformat_minor": 1
}
