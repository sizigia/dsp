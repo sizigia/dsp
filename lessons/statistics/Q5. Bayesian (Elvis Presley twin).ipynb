{
 "cells": [
  {
   "cell_type": "markdown",
   "metadata": {},
   "source": [
    "## Exercise\n",
    "Elvis Presley had a twin brother who died at birth.  What is the probability that Elvis was an identical twin? Assume we observe the following probabilities in the population: fraternal twin is 1/125 and identical twin is 1/300.  "
   ]
  },
  {
   "cell_type": "markdown",
   "metadata": {},
   "source": [
    "Fraternal (non-identical) twins can be the same or opposite sex.  \n",
    "P(fraternal twins) = 0.25 = 1/2 + 1/2\n",
    "\n",
    "Identical twins are same sex.  \n",
    "P(identical twins) = 0.5 = 1/2"
   ]
  },
  {
   "cell_type": "code",
   "execution_count": 1,
   "metadata": {},
   "outputs": [],
   "source": [
    "p_fraternal_twin = 1 / 4\n",
    "p_identical_twin = 1 / 2"
   ]
  },
  {
   "cell_type": "markdown",
   "metadata": {},
   "source": [
    "P(twins & fraternal twins) = P(fraternal twins) * P(brothers | \n",
    "fraternal twins) = (1/4) * (1/125) = 0.002\n",
    "                           \n",
    "P(twins & identical twins) = P(identical twins) * P(brothers | \n",
    "identical twins) = (1/2) * (1/300) = 0.0016"
   ]
  },
  {
   "cell_type": "code",
   "execution_count": 2,
   "metadata": {},
   "outputs": [],
   "source": [
    "pop_fraternal_twin = 1/125\n",
    "pop_identical_twin = 1/300"
   ]
  },
  {
   "cell_type": "code",
   "execution_count": 3,
   "metadata": {},
   "outputs": [],
   "source": [
    "p_brothers_frat = p_fraternal_twin * pop_fraternal_twin\n",
    "p_brothers_ident = p_identical_twin * pop_identical_twin"
   ]
  },
  {
   "cell_type": "markdown",
   "metadata": {},
   "source": [
    "P(identical twin | brother) = P(twins & identical twins) / P(twin)"
   ]
  },
  {
   "cell_type": "code",
   "execution_count": 4,
   "metadata": {},
   "outputs": [
    {
     "name": "stdout",
     "output_type": "stream",
     "text": [
      "0.45454545454545453\n"
     ]
    }
   ],
   "source": [
    "p_elvis = p_brothers_ident / (p_brothers_frat + p_brothers_ident)\n",
    "print(p_elvis)"
   ]
  },
  {
   "cell_type": "code",
   "execution_count": 5,
   "metadata": {},
   "outputs": [
    {
     "name": "stdout",
     "output_type": "stream",
     "text": [
      "The probability that Elvis and his twin brother were identical twins is approximately of 45.5%.\n"
     ]
    }
   ],
   "source": [
    "print(\"The probability that Elvis and his twin brother were identical twins is approximately of {:.1f}%.\".format(p_elvis * 100))"
   ]
  }
 ],
 "metadata": {
  "kernelspec": {
   "display_name": "Python 3",
   "language": "python",
   "name": "python3"
  },
  "language_info": {
   "codemirror_mode": {
    "name": "ipython",
    "version": 3
   },
   "file_extension": ".py",
   "mimetype": "text/x-python",
   "name": "python",
   "nbconvert_exporter": "python",
   "pygments_lexer": "ipython3",
   "version": "3.8.3"
  }
 },
 "nbformat": 4,
 "nbformat_minor": 4
}
